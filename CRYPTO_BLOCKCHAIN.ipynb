{
  "nbformat": 4,
  "nbformat_minor": 0,
  "metadata": {
    "colab": {
      "provenance": [],
      "include_colab_link": true
    },
    "kernelspec": {
      "name": "python3",
      "display_name": "Python 3"
    },
    "language_info": {
      "name": "python"
    }
  },
  "cells": [
    {
      "cell_type": "markdown",
      "metadata": {
        "id": "view-in-github",
        "colab_type": "text"
      },
      "source": [
        "<a href=\"https://colab.research.google.com/github/DikshaJoshi5639/Operational-Efficiency-/blob/main/CRYPTO_BLOCKCHAIN.ipynb\" target=\"_parent\"><img src=\"https://colab.research.google.com/assets/colab-badge.svg\" alt=\"Open In Colab\"/></a>"
      ]
    },
    {
      "cell_type": "code",
      "execution_count": null,
      "metadata": {
        "colab": {
          "base_uri": "https://localhost:8080/"
        },
        "id": "bbXFMV47L-Fb",
        "outputId": "88819f09-bdb4-4bf4-cdc5-71298d83508c"
      },
      "outputs": [
        {
          "output_type": "stream",
          "name": "stdout",
          "text": [
            "Requirement already satisfied: pandas in /usr/local/lib/python3.10/dist-packages (2.0.3)\n",
            "Requirement already satisfied: cryptography in /usr/local/lib/python3.10/dist-packages (42.0.8)\n",
            "Requirement already satisfied: python-dateutil>=2.8.2 in /usr/local/lib/python3.10/dist-packages (from pandas) (2.8.2)\n",
            "Requirement already satisfied: pytz>=2020.1 in /usr/local/lib/python3.10/dist-packages (from pandas) (2023.4)\n",
            "Requirement already satisfied: tzdata>=2022.1 in /usr/local/lib/python3.10/dist-packages (from pandas) (2024.1)\n",
            "Requirement already satisfied: numpy>=1.21.0 in /usr/local/lib/python3.10/dist-packages (from pandas) (1.25.2)\n",
            "Requirement already satisfied: cffi>=1.12 in /usr/local/lib/python3.10/dist-packages (from cryptography) (1.16.0)\n",
            "Requirement already satisfied: pycparser in /usr/local/lib/python3.10/dist-packages (from cffi>=1.12->cryptography) (2.22)\n",
            "Requirement already satisfied: six>=1.5 in /usr/local/lib/python3.10/dist-packages (from python-dateutil>=2.8.2->pandas) (1.16.0)\n"
          ]
        }
      ],
      "source": [
        "pip install pandas cryptography\n"
      ]
    },
    {
      "cell_type": "code",
      "source": [
        "import pandas as pd\n",
        "from cryptography.fernet import Fernet\n",
        "import random\n",
        "import csv\n",
        "import os"
      ],
      "metadata": {
        "id": "tbdemuIeMT0l"
      },
      "execution_count": null,
      "outputs": []
    },
    {
      "cell_type": "code",
      "source": [
        "def generate_key():\n",
        "    return Fernet.generate_key()\n",
        "\n",
        "key = generate_key()\n",
        "cipher_suite = Fernet(key)\n"
      ],
      "metadata": {
        "id": "sqRTYb-rPI-y"
      },
      "execution_count": null,
      "outputs": []
    },
    {
      "cell_type": "code",
      "source": [
        "def encrypt_data(data):\n",
        "    encrypted_data = cipher_suite.encrypt(data.encode())\n",
        "    return encrypted_data\n",
        "\n",
        "def decrypt_data(encrypted_data):\n",
        "    decrypted_data = cipher_suite.decrypt(encrypted_data).decode()\n",
        "    return decrypted_data\n"
      ],
      "metadata": {
        "id": "Qvn4s0BS3Pgx"
      },
      "execution_count": null,
      "outputs": []
    },
    {
      "cell_type": "code",
      "source": [
        "# Example of encrypting random data\n",
        "random.seed(0)  # For reproducibility\n",
        "\n",
        "# Generate random dataset (replace this with your actual dataset loading logic)\n",
        "data = {'Text': ['Lorem ipsum', 'Dolor sit amet', 'Consectetur adipiscing elit']}\n",
        "df = pd.DataFrame(data)\n",
        "\n",
        "# Encrypt the 'Text' column\n",
        "df['Hash Format'] = df['Text'].apply(lambda x: encrypt_data(x))\n",
        "\n",
        "# Print encrypted data (for demonstration)\n",
        "print(\"Encrypted Data:\")\n",
        "print(df[['Text', 'Hash Format']])\n",
        "\n",
        "# Optionally, you can save the encrypted data to a CSV file\n",
        "df.to_csv('encrypted_data.csv', index=False)\n"
      ],
      "metadata": {
        "colab": {
          "base_uri": "https://localhost:8080/"
        },
        "id": "QdJUlxnw3TnG",
        "outputId": "12b95518-2d5e-4e4b-c035-9357dfb38851"
      },
      "execution_count": null,
      "outputs": [
        {
          "output_type": "stream",
          "name": "stdout",
          "text": [
            "Encrypted Data:\n",
            "                          Text  \\\n",
            "0                  Lorem ipsum   \n",
            "1               Dolor sit amet   \n",
            "2  Consectetur adipiscing elit   \n",
            "\n",
            "                                         Hash Format  \n",
            "0  b'gAAAAABmet11LN-ZeftJMl2te4SOglpdSQmro_RwDWgA...  \n",
            "1  b'gAAAAABmet11HNt08DkQ30gosCyt7UcgaocE-EmDFeu2...  \n",
            "2  b'gAAAAABmet11Hp9v0QnfXvVVa8HvWyHcULS8-VXxrliE...  \n"
          ]
        }
      ]
    },
    {
      "cell_type": "code",
      "source": [
        "import pandas as pd\n",
        "from cryptography.fernet import Fernet\n",
        "import os\n",
        "\n",
        "# Function to check if the file exists\n",
        "def file_exists(file_path):\n",
        "    return os.path.exists(file_path)\n",
        "\n",
        "# Specify the file path\n",
        "input_file = 'BankCustomerData.csv'\n",
        "\n",
        "# Check if the input file exists\n",
        "if not file_exists(input_file):\n",
        "    raise FileNotFoundError(f\"The file {input_file} does not exist. Please check the file path.\")\n",
        "\n",
        "# Generate a key for encryption\n",
        "key = Fernet.generate_key()\n",
        "cipher_suite = Fernet(key)\n",
        "\n",
        "# Save the key to a file (so you can decrypt later if needed)\n",
        "with open('encryption_key.key', 'wb') as key_file:\n",
        "    key_file.write(key)\n",
        "\n",
        "# Load the CSV file\n",
        "data = pd.read_csv(input_file)\n",
        "\n",
        "# Encrypt each cell in the DataFrame\n",
        "def encrypt_cell(cell):\n",
        "    cell_str = str(cell)\n",
        "    cell_bytes = cell_str.encode('utf-8')\n",
        "    encrypted_bytes = cipher_suite.encrypt(cell_bytes)\n",
        "    return encrypted_bytes.decode('utf-8')\n",
        "\n",
        "encrypted_data = data.applymap(encrypt_cell)\n",
        "\n",
        "# Save the encrypted DataFrame to a new CSV file\n",
        "output_file = 'encrypted_data.csv'\n",
        "encrypted_data.to_csv(output_file, index=False)\n",
        "\n",
        "print(f\"Data has been encrypted and saved to {output_file}\")\n"
      ],
      "metadata": {
        "colab": {
          "base_uri": "https://localhost:8080/"
        },
        "id": "M7Im1CzT3-ZR",
        "outputId": "951ed605-12e3-4e6f-a0e4-f7fdd948528d"
      },
      "execution_count": null,
      "outputs": [
        {
          "output_type": "stream",
          "name": "stdout",
          "text": [
            "Data has been encrypted and saved to encrypted_data.csv\n"
          ]
        }
      ]
    },
    {
      "cell_type": "code",
      "source": [
        "pip install web3 pandas cryptography\n"
      ],
      "metadata": {
        "colab": {
          "base_uri": "https://localhost:8080/"
        },
        "id": "UAw8RHti_w7Y",
        "outputId": "ea25e11c-52d9-4265-bc12-16c76a543d6f",
        "collapsed": true
      },
      "execution_count": null,
      "outputs": [
        {
          "output_type": "stream",
          "name": "stdout",
          "text": [
            "Collecting web3\n",
            "  Downloading web3-6.19.0-py3-none-any.whl (1.6 MB)\n",
            "\u001b[2K     \u001b[90m━━━━━━━━━━━━━━━━━━━━━━━━━━━━━━━━━━━━━━━━\u001b[0m \u001b[32m1.6/1.6 MB\u001b[0m \u001b[31m7.5 MB/s\u001b[0m eta \u001b[36m0:00:00\u001b[0m\n",
            "\u001b[?25hRequirement already satisfied: pandas in /usr/local/lib/python3.10/dist-packages (2.0.3)\n",
            "Requirement already satisfied: cryptography in /usr/local/lib/python3.10/dist-packages (42.0.8)\n",
            "Requirement already satisfied: aiohttp>=3.7.4.post0 in /usr/local/lib/python3.10/dist-packages (from web3) (3.9.5)\n",
            "Collecting eth-abi>=4.0.0 (from web3)\n",
            "  Downloading eth_abi-5.1.0-py3-none-any.whl (29 kB)\n",
            "Collecting eth-account<0.13,>=0.8.0 (from web3)\n",
            "  Downloading eth_account-0.12.3-py3-none-any.whl (355 kB)\n",
            "\u001b[2K     \u001b[90m━━━━━━━━━━━━━━━━━━━━━━━━━━━━━━━━━━━━━━━━\u001b[0m \u001b[32m356.0/356.0 kB\u001b[0m \u001b[31m27.1 MB/s\u001b[0m eta \u001b[36m0:00:00\u001b[0m\n",
            "\u001b[?25hCollecting eth-hash[pycryptodome]>=0.5.1 (from web3)\n",
            "  Downloading eth_hash-0.7.0-py3-none-any.whl (8.7 kB)\n",
            "Collecting eth-typing!=4.2.0,>=3.0.0 (from web3)\n",
            "  Downloading eth_typing-4.3.1-py3-none-any.whl (19 kB)\n",
            "Collecting eth-utils>=2.1.0 (from web3)\n",
            "  Downloading eth_utils-4.1.1-py3-none-any.whl (96 kB)\n",
            "\u001b[2K     \u001b[90m━━━━━━━━━━━━━━━━━━━━━━━━━━━━━━━━━━━━━━━━\u001b[0m \u001b[32m96.0/96.0 kB\u001b[0m \u001b[31m9.1 MB/s\u001b[0m eta \u001b[36m0:00:00\u001b[0m\n",
            "\u001b[?25hCollecting hexbytes<0.4.0,>=0.1.0 (from web3)\n",
            "  Downloading hexbytes-0.3.1-py3-none-any.whl (5.9 kB)\n",
            "Requirement already satisfied: jsonschema>=4.0.0 in /usr/local/lib/python3.10/dist-packages (from web3) (4.19.2)\n",
            "Collecting lru-dict<1.3.0,>=1.1.6 (from web3)\n",
            "  Downloading lru_dict-1.2.0-cp310-cp310-manylinux_2_5_x86_64.manylinux1_x86_64.manylinux_2_17_x86_64.manylinux2014_x86_64.whl (28 kB)\n",
            "Collecting protobuf>=4.21.6 (from web3)\n",
            "  Downloading protobuf-5.27.1-cp38-abi3-manylinux2014_x86_64.whl (309 kB)\n",
            "\u001b[2K     \u001b[90m━━━━━━━━━━━━━━━━━━━━━━━━━━━━━━━━━━━━━━━━\u001b[0m \u001b[32m309.2/309.2 kB\u001b[0m \u001b[31m22.7 MB/s\u001b[0m eta \u001b[36m0:00:00\u001b[0m\n",
            "\u001b[?25hRequirement already satisfied: requests>=2.16.0 in /usr/local/lib/python3.10/dist-packages (from web3) (2.31.0)\n",
            "Requirement already satisfied: typing-extensions>=4.0.1 in /usr/local/lib/python3.10/dist-packages (from web3) (4.12.2)\n",
            "Collecting websockets>=10.0.0 (from web3)\n",
            "  Downloading websockets-12.0-cp310-cp310-manylinux_2_5_x86_64.manylinux1_x86_64.manylinux_2_17_x86_64.manylinux2014_x86_64.whl (130 kB)\n",
            "\u001b[2K     \u001b[90m━━━━━━━━━━━━━━━━━━━━━━━━━━━━━━━━━━━━━━━━\u001b[0m \u001b[32m130.2/130.2 kB\u001b[0m \u001b[31m12.7 MB/s\u001b[0m eta \u001b[36m0:00:00\u001b[0m\n",
            "\u001b[?25hCollecting pyunormalize>=15.0.0 (from web3)\n",
            "  Downloading pyunormalize-15.1.0.tar.gz (515 kB)\n",
            "\u001b[2K     \u001b[90m━━━━━━━━━━━━━━━━━━━━━━━━━━━━━━━━━━━━━━━━\u001b[0m \u001b[32m515.5/515.5 kB\u001b[0m \u001b[31m34.1 MB/s\u001b[0m eta \u001b[36m0:00:00\u001b[0m\n",
            "\u001b[?25h  Preparing metadata (setup.py) ... \u001b[?25l\u001b[?25hdone\n",
            "Requirement already satisfied: python-dateutil>=2.8.2 in /usr/local/lib/python3.10/dist-packages (from pandas) (2.8.2)\n",
            "Requirement already satisfied: pytz>=2020.1 in /usr/local/lib/python3.10/dist-packages (from pandas) (2023.4)\n",
            "Requirement already satisfied: tzdata>=2022.1 in /usr/local/lib/python3.10/dist-packages (from pandas) (2024.1)\n",
            "Requirement already satisfied: numpy>=1.21.0 in /usr/local/lib/python3.10/dist-packages (from pandas) (1.25.2)\n",
            "Requirement already satisfied: cffi>=1.12 in /usr/local/lib/python3.10/dist-packages (from cryptography) (1.16.0)\n",
            "Requirement already satisfied: aiosignal>=1.1.2 in /usr/local/lib/python3.10/dist-packages (from aiohttp>=3.7.4.post0->web3) (1.3.1)\n",
            "Requirement already satisfied: attrs>=17.3.0 in /usr/local/lib/python3.10/dist-packages (from aiohttp>=3.7.4.post0->web3) (23.2.0)\n",
            "Requirement already satisfied: frozenlist>=1.1.1 in /usr/local/lib/python3.10/dist-packages (from aiohttp>=3.7.4.post0->web3) (1.4.1)\n",
            "Requirement already satisfied: multidict<7.0,>=4.5 in /usr/local/lib/python3.10/dist-packages (from aiohttp>=3.7.4.post0->web3) (6.0.5)\n",
            "Requirement already satisfied: yarl<2.0,>=1.0 in /usr/local/lib/python3.10/dist-packages (from aiohttp>=3.7.4.post0->web3) (1.9.4)\n",
            "Requirement already satisfied: async-timeout<5.0,>=4.0 in /usr/local/lib/python3.10/dist-packages (from aiohttp>=3.7.4.post0->web3) (4.0.3)\n",
            "Requirement already satisfied: pycparser in /usr/local/lib/python3.10/dist-packages (from cffi>=1.12->cryptography) (2.22)\n",
            "Collecting parsimonious<0.11.0,>=0.10.0 (from eth-abi>=4.0.0->web3)\n",
            "  Downloading parsimonious-0.10.0-py3-none-any.whl (48 kB)\n",
            "\u001b[2K     \u001b[90m━━━━━━━━━━━━━━━━━━━━━━━━━━━━━━━━━━━━━━━━\u001b[0m \u001b[32m48.4/48.4 kB\u001b[0m \u001b[31m5.0 MB/s\u001b[0m eta \u001b[36m0:00:00\u001b[0m\n",
            "\u001b[?25hCollecting bitarray>=2.4.0 (from eth-account<0.13,>=0.8.0->web3)\n",
            "  Downloading bitarray-2.9.2-cp310-cp310-manylinux_2_17_x86_64.manylinux2014_x86_64.whl (288 kB)\n",
            "\u001b[2K     \u001b[90m━━━━━━━━━━━━━━━━━━━━━━━━━━━━━━━━━━━━━━━━\u001b[0m \u001b[32m288.3/288.3 kB\u001b[0m \u001b[31m23.0 MB/s\u001b[0m eta \u001b[36m0:00:00\u001b[0m\n",
            "\u001b[?25hCollecting eth-keyfile>=0.6.0 (from eth-account<0.13,>=0.8.0->web3)\n",
            "  Downloading eth_keyfile-0.8.1-py3-none-any.whl (7.5 kB)\n",
            "Collecting eth-keys>=0.4.0 (from eth-account<0.13,>=0.8.0->web3)\n",
            "  Downloading eth_keys-0.5.1-py3-none-any.whl (21 kB)\n",
            "Collecting eth-rlp>=2.1.0 (from eth-account<0.13,>=0.8.0->web3)\n",
            "  Downloading eth_rlp-2.1.0-py3-none-any.whl (5.1 kB)\n",
            "INFO: pip is looking at multiple versions of eth-account to determine which version is compatible with other requirements. This could take a while.\n",
            "Collecting eth-account<0.13,>=0.8.0 (from web3)\n",
            "  Downloading eth_account-0.12.2-py3-none-any.whl (355 kB)\n",
            "\u001b[2K     \u001b[90m━━━━━━━━━━━━━━━━━━━━━━━━━━━━━━━━━━━━━━━━\u001b[0m \u001b[32m355.7/355.7 kB\u001b[0m \u001b[31m31.1 MB/s\u001b[0m eta \u001b[36m0:00:00\u001b[0m\n",
            "\u001b[?25h  Downloading eth_account-0.12.1-py3-none-any.whl (355 kB)\n",
            "\u001b[2K     \u001b[90m━━━━━━━━━━━━━━━━━━━━━━━━━━━━━━━━━━━━━━━━\u001b[0m \u001b[32m355.1/355.1 kB\u001b[0m \u001b[31m31.7 MB/s\u001b[0m eta \u001b[36m0:00:00\u001b[0m\n",
            "\u001b[?25h  Downloading eth_account-0.12.0-py3-none-any.whl (354 kB)\n",
            "\u001b[2K     \u001b[90m━━━━━━━━━━━━━━━━━━━━━━━━━━━━━━━━━━━━━━━━\u001b[0m \u001b[32m354.9/354.9 kB\u001b[0m \u001b[31m32.4 MB/s\u001b[0m eta \u001b[36m0:00:00\u001b[0m\n",
            "\u001b[?25h  Downloading eth_account-0.11.2-py3-none-any.whl (355 kB)\n",
            "\u001b[2K     \u001b[90m━━━━━━━━━━━━━━━━━━━━━━━━━━━━━━━━━━━━━━━━\u001b[0m \u001b[32m355.4/355.4 kB\u001b[0m \u001b[31m31.9 MB/s\u001b[0m eta \u001b[36m0:00:00\u001b[0m\n",
            "\u001b[?25hCollecting rlp>=1.0.0 (from eth-account<0.13,>=0.8.0->web3)\n",
            "  Downloading rlp-4.0.1-py3-none-any.whl (20 kB)\n",
            "Collecting ckzg>=0.4.3 (from eth-account<0.13,>=0.8.0->web3)\n",
            "  Downloading ckzg-1.0.2-cp310-cp310-manylinux_2_17_x86_64.manylinux2014_x86_64.whl (139 kB)\n",
            "\u001b[2K     \u001b[90m━━━━━━━━━━━━━━━━━━━━━━━━━━━━━━━━━━━━━━━━\u001b[0m \u001b[32m139.8/139.8 kB\u001b[0m \u001b[31m14.8 MB/s\u001b[0m eta \u001b[36m0:00:00\u001b[0m\n",
            "\u001b[?25hCollecting pycryptodome<4,>=3.6.6 (from eth-hash[pycryptodome]>=0.5.1->web3)\n",
            "  Downloading pycryptodome-3.20.0-cp35-abi3-manylinux_2_17_x86_64.manylinux2014_x86_64.whl (2.1 MB)\n",
            "\u001b[2K     \u001b[90m━━━━━━━━━━━━━━━━━━━━━━━━━━━━━━━━━━━━━━━━\u001b[0m \u001b[32m2.1/2.1 MB\u001b[0m \u001b[31m37.7 MB/s\u001b[0m eta \u001b[36m0:00:00\u001b[0m\n",
            "\u001b[?25hCollecting cytoolz>=0.10.1 (from eth-utils>=2.1.0->web3)\n",
            "  Downloading cytoolz-0.12.3-cp310-cp310-manylinux_2_17_x86_64.manylinux2014_x86_64.whl (2.0 MB)\n",
            "\u001b[2K     \u001b[90m━━━━━━━━━━━━━━━━━━━━━━━━━━━━━━━━━━━━━━━━\u001b[0m \u001b[32m2.0/2.0 MB\u001b[0m \u001b[31m68.1 MB/s\u001b[0m eta \u001b[36m0:00:00\u001b[0m\n",
            "\u001b[?25hRequirement already satisfied: jsonschema-specifications>=2023.03.6 in /usr/local/lib/python3.10/dist-packages (from jsonschema>=4.0.0->web3) (2023.12.1)\n",
            "Requirement already satisfied: referencing>=0.28.4 in /usr/local/lib/python3.10/dist-packages (from jsonschema>=4.0.0->web3) (0.35.1)\n",
            "Requirement already satisfied: rpds-py>=0.7.1 in /usr/local/lib/python3.10/dist-packages (from jsonschema>=4.0.0->web3) (0.18.1)\n",
            "Requirement already satisfied: six>=1.5 in /usr/local/lib/python3.10/dist-packages (from python-dateutil>=2.8.2->pandas) (1.16.0)\n",
            "Requirement already satisfied: charset-normalizer<4,>=2 in /usr/local/lib/python3.10/dist-packages (from requests>=2.16.0->web3) (3.3.2)\n",
            "Requirement already satisfied: idna<4,>=2.5 in /usr/local/lib/python3.10/dist-packages (from requests>=2.16.0->web3) (3.7)\n",
            "Requirement already satisfied: urllib3<3,>=1.21.1 in /usr/local/lib/python3.10/dist-packages (from requests>=2.16.0->web3) (2.0.7)\n",
            "Requirement already satisfied: certifi>=2017.4.17 in /usr/local/lib/python3.10/dist-packages (from requests>=2.16.0->web3) (2024.6.2)\n",
            "Requirement already satisfied: toolz>=0.8.0 in /usr/local/lib/python3.10/dist-packages (from cytoolz>=0.10.1->eth-utils>=2.1.0->web3) (0.12.1)\n",
            "INFO: pip is looking at multiple versions of eth-rlp to determine which version is compatible with other requirements. This could take a while.\n",
            "Collecting eth-rlp>=0.3.0 (from eth-account<0.13,>=0.8.0->web3)\n",
            "  Downloading eth_rlp-2.0.0-py3-none-any.whl (5.1 kB)\n",
            "  Downloading eth_rlp-1.0.1-py3-none-any.whl (4.9 kB)\n",
            "Requirement already satisfied: regex>=2022.3.15 in /usr/local/lib/python3.10/dist-packages (from parsimonious<0.11.0,>=0.10.0->eth-abi>=4.0.0->web3) (2024.5.15)\n",
            "Building wheels for collected packages: pyunormalize\n",
            "  Building wheel for pyunormalize (setup.py) ... \u001b[?25l\u001b[?25hdone\n",
            "  Created wheel for pyunormalize: filename=pyunormalize-15.1.0-py3-none-any.whl size=516032 sha256=c868fd98e27368b036bb8010bd8c80ce20c68ba5bab41f0584801175c8ae4d68\n",
            "  Stored in directory: /root/.cache/pip/wheels/b8/b6/c6/6fc11f58d3fd02f387cf3b18479bb5c6d4143995d0fa401622\n",
            "Successfully built pyunormalize\n",
            "Installing collected packages: lru-dict, ckzg, bitarray, websockets, pyunormalize, pycryptodome, protobuf, parsimonious, hexbytes, eth-typing, eth-hash, cytoolz, eth-utils, rlp, eth-keys, eth-abi, eth-rlp, eth-keyfile, eth-account, web3\n",
            "  Attempting uninstall: protobuf\n",
            "    Found existing installation: protobuf 3.20.3\n",
            "    Uninstalling protobuf-3.20.3:\n",
            "      Successfully uninstalled protobuf-3.20.3\n",
            "\u001b[31mERROR: pip's dependency resolver does not currently take into account all the packages that are installed. This behaviour is the source of the following dependency conflicts.\n",
            "cudf-cu12 24.4.1 requires protobuf<5,>=3.20, but you have protobuf 5.27.1 which is incompatible.\n",
            "google-ai-generativelanguage 0.6.4 requires protobuf!=3.20.0,!=3.20.1,!=4.21.0,!=4.21.1,!=4.21.2,!=4.21.3,!=4.21.4,!=4.21.5,<5.0.0dev,>=3.19.5, but you have protobuf 5.27.1 which is incompatible.\n",
            "google-api-core 2.11.1 requires protobuf!=3.20.0,!=3.20.1,!=4.21.0,!=4.21.1,!=4.21.2,!=4.21.3,!=4.21.4,!=4.21.5,<5.0.0.dev0,>=3.19.5, but you have protobuf 5.27.1 which is incompatible.\n",
            "google-cloud-aiplatform 1.56.0 requires protobuf!=3.20.0,!=3.20.1,!=4.21.0,!=4.21.1,!=4.21.2,!=4.21.3,!=4.21.4,!=4.21.5,<5.0.0dev,>=3.19.5, but you have protobuf 5.27.1 which is incompatible.\n",
            "google-cloud-bigquery-connection 1.12.1 requires protobuf!=3.20.0,!=3.20.1,!=4.21.0,!=4.21.1,!=4.21.2,!=4.21.3,!=4.21.4,!=4.21.5,<5.0.0dev,>=3.19.5, but you have protobuf 5.27.1 which is incompatible.\n",
            "google-cloud-bigquery-storage 2.25.0 requires protobuf!=3.20.0,!=3.20.1,!=4.21.0,!=4.21.1,!=4.21.2,!=4.21.3,!=4.21.4,!=4.21.5,<5.0.0dev,>=3.19.5, but you have protobuf 5.27.1 which is incompatible.\n",
            "google-cloud-datastore 2.15.2 requires protobuf!=3.20.0,!=3.20.1,!=4.21.0,!=4.21.1,!=4.21.2,!=4.21.3,!=4.21.4,!=4.21.5,<5.0.0dev,>=3.19.5, but you have protobuf 5.27.1 which is incompatible.\n",
            "google-cloud-firestore 2.11.1 requires protobuf!=3.20.0,!=3.20.1,!=4.21.0,!=4.21.1,!=4.21.2,!=4.21.3,!=4.21.4,!=4.21.5,<5.0.0dev,>=3.19.5, but you have protobuf 5.27.1 which is incompatible.\n",
            "google-cloud-functions 1.13.3 requires protobuf!=3.20.0,!=3.20.1,!=4.21.0,!=4.21.1,!=4.21.2,!=4.21.3,!=4.21.4,!=4.21.5,<5.0.0dev,>=3.19.5, but you have protobuf 5.27.1 which is incompatible.\n",
            "google-cloud-iam 2.15.0 requires protobuf!=3.20.0,!=3.20.1,!=4.21.0,!=4.21.1,!=4.21.2,!=4.21.3,!=4.21.4,!=4.21.5,<5.0.0dev,>=3.19.5, but you have protobuf 5.27.1 which is incompatible.\n",
            "google-cloud-language 2.13.3 requires protobuf!=3.20.0,!=3.20.1,!=4.21.0,!=4.21.1,!=4.21.2,!=4.21.3,!=4.21.4,!=4.21.5,<5.0.0dev,>=3.19.5, but you have protobuf 5.27.1 which is incompatible.\n",
            "google-cloud-resource-manager 1.12.3 requires protobuf!=3.20.0,!=3.20.1,!=4.21.0,!=4.21.1,!=4.21.2,!=4.21.3,!=4.21.4,!=4.21.5,<5.0.0dev,>=3.19.5, but you have protobuf 5.27.1 which is incompatible.\n",
            "google-cloud-translate 3.11.3 requires protobuf!=3.20.0,!=3.20.1,!=4.21.0,!=4.21.1,!=4.21.2,!=4.21.3,!=4.21.4,!=4.21.5,<5.0.0dev,>=3.19.5, but you have protobuf 5.27.1 which is incompatible.\n",
            "grpc-google-iam-v1 0.13.0 requires protobuf!=3.20.0,!=3.20.1,!=4.21.1,!=4.21.2,!=4.21.3,!=4.21.4,!=4.21.5,<5.0.0dev,>=3.19.5, but you have protobuf 5.27.1 which is incompatible.\n",
            "tensorflow 2.15.0 requires protobuf!=4.21.0,!=4.21.1,!=4.21.2,!=4.21.3,!=4.21.4,!=4.21.5,<5.0.0dev,>=3.20.3, but you have protobuf 5.27.1 which is incompatible.\n",
            "tensorflow-metadata 1.15.0 requires protobuf<4.21,>=3.20.3; python_version < \"3.11\", but you have protobuf 5.27.1 which is incompatible.\u001b[0m\u001b[31m\n",
            "\u001b[0mSuccessfully installed bitarray-2.9.2 ckzg-1.0.2 cytoolz-0.12.3 eth-abi-5.1.0 eth-account-0.11.2 eth-hash-0.7.0 eth-keyfile-0.8.1 eth-keys-0.5.1 eth-rlp-1.0.1 eth-typing-4.3.1 eth-utils-4.1.1 hexbytes-0.3.1 lru-dict-1.2.0 parsimonious-0.10.0 protobuf-5.27.1 pycryptodome-3.20.0 pyunormalize-15.1.0 rlp-4.0.1 web3-6.19.0 websockets-12.0\n"
          ]
        }
      ]
    },
    {
      "cell_type": "code",
      "source": [
        "import os\n",
        "import pandas as pd\n",
        "from cryptography.fernet import Fernet\n",
        "import hashlib\n",
        "from web3 import Web3\n",
        "from web3.middleware import geth_poa_middleware\n",
        "from web3 import Account\n"
      ],
      "metadata": {
        "id": "CFlZGvRYI0-k"
      },
      "execution_count": null,
      "outputs": []
    },
    {
      "source": [
        "import os\n",
        "import pandas as pd\n",
        "import hashlib\n",
        "from cryptography.fernet import Fernet\n",
        "from web3 import Web3, HTTPProvider\n",
        "from web3.middleware import geth_poa_middleware\n",
        "from eth_account import Account  # Import Account from eth_account\n",
        "\n",
        "# Web3 setup (connect to Ethereum network via HTTPProvider)\n",
        "web3 = Web3(HTTPProvider('https://ethereum-sepolia.blockpi.network/v1/rpc/public'))  # Replace with your Infura project ID or Ethereum node URL\n",
        "\n",
        "# Add PoA middleware for the blockchain network if needed\n",
        "web3.middleware_onion.inject(geth_poa_middleware, layer=0)\n",
        "\n",
        "# MetaMask account setup (you must unlock your MetaMask account)\n",
        "account_address = '0xaD43530063B452111eCE74c1541B9dCb4D9450f3'  # Replace with your MetaMask wallet address\n",
        "private_key = '3aa26f21d6b2418e899e79ffe3f65b27157186ae10ed5a2cec3d233fb62eb1c3'  # Replace with your MetaMask private key\n",
        "\n",
        "# Create an account object from the private key\n",
        "account = Account.from_key(private_key)\n",
        "\n",
        "# Set the default account for transactions\n",
        "web3.eth.default_account = account.address\n",
        "\n",
        "# Smart contract setup\n",
        "contract_address = '0x5B38Da6a701c568545dCfcB03FcB875f56beddC4'  # Replace with your deployed contract address\n",
        "abi = [\n",
        "\t{\n",
        "\t\t\"anonymous\": False,\n",
        "\t\t\"inputs\": [\n",
        "\t\t\t{\n",
        "\t\t\t\t\"indexed\": True,\n",
        "\t\t\t\t\"internalType\": \"bytes32\",\n",
        "\t\t\t\t\"name\": \"dataHash\",\n",
        "\t\t\t\t\"type\": \"bytes32\"\n",
        "\t\t\t}\n",
        "\t\t],\n",
        "\t\t\"name\": \"HashStored\",\n",
        "\t\t\"type\": \"event\"\n",
        "\t},\n",
        "\t{\n",
        "\t\t\"inputs\": [\n",
        "\t\t\t{\n",
        "\t\t\t\t\"internalType\": \"bytes32\",\n",
        "\t\t\t\t\"name\": \"dataHash\",\n",
        "\t\t\t\t\"type\": \"bytes32\"\n",
        "\t\t\t}\n",
        "\t\t],\n",
        "\t\t\"name\": \"storeHash\",\n",
        "\t\t\"outputs\": [],\n",
        "\t\t\"stateMutability\": \"nonpayable\",\n",
        "\t\t\"type\": \"function\"\n",
        "\t},\n",
        "\t{\n",
        "\t\t\"inputs\": [\n",
        "\t\t\t{\n",
        "\t\t\t\t\"internalType\": \"bytes32\",\n",
        "\t\t\t\t\"name\": \"dataHash\",\n",
        "\t\t\t\t\"type\": \"bytes32\"\n",
        "\t\t\t}\n",
        "\t\t],\n",
        "\t\t\"name\": \"getStoreHashTransactionData\",\n",
        "\t\t\"outputs\": [\n",
        "\t\t\t{\n",
        "\t\t\t\t\"internalType\": \"bytes\",\n",
        "\t\t\t\t\"name\": \"\",\n",
        "\t\t\t\t\"type\": \"bytes\"\n",
        "\t\t\t}\n",
        "\t\t],\n",
        "\t\t\"stateMutability\": \"pure\",\n",
        "\t\t\"type\": \"function\"\n",
        "\t},\n",
        "\t{\n",
        "\t\t\"inputs\": [\n",
        "\t\t\t{\n",
        "\t\t\t\t\"internalType\": \"bytes32\",\n",
        "\t\t\t\t\"name\": \"dataHash\",\n",
        "\t\t\t\t\"type\": \"bytes32\"\n",
        "\t\t\t}\n",
        "\t\t],\n",
        "\t\t\"name\": \"verifyHash\",\n",
        "\t\t\"outputs\": [\n",
        "\t\t\t{\n",
        "\t\t\t\t\"internalType\": \"bool\",\n",
        "\t\t\t\t\"name\": \"\",\n",
        "\t\t\t\t\"type\": \"bool\"\n",
        "\t\t\t}\n",
        "\t\t],\n",
        "\t\t\"stateMutability\": \"view\",\n",
        "\t\t\"type\": \"function\"\n",
        "\t}\n",
        "]\n",
        "\n",
        "# Instantiate the contract\n",
        "contract = web3.eth.contract(address=contract_address, abi=abi)\n",
        "\n",
        "# Function to check if the file exists\n",
        "def file_exists(file_path):\n",
        "    return os.path.exists(file_path)\n",
        "\n",
        "# Generate a key for encryption\n",
        "key = Fernet.generate_key()\n",
        "cipher_suite = Fernet(key)\n",
        "\n",
        "# Save the key to a file (so you can decrypt later if needed)\n",
        "with open('encryption_key.key', 'wb') as key_file:\n",
        "    key_file.write(key)\n",
        "\n"
      ],
      "cell_type": "code",
      "metadata": {
        "id": "8AL6NY5vTtyP"
      },
      "execution_count": null,
      "outputs": []
    },
    {
      "cell_type": "code",
      "source": [
        "input_file = 'BankCustomerData.csv'\n",
        "output_file = 'encrypted_data.csv'\n",
        "\n",
        "if not file_exists(input_file):\n",
        "    raise FileNotFoundError(f\"The file {input_file} does not exist. Please check the file path.\")\n",
        "\n",
        "# Encrypt each cell in the DataFrame\n",
        "def encrypt_cell(cell):\n",
        "    cell_str = str(cell)\n",
        "    cell_bytes = cell_str.encode('utf-8')\n",
        "    encrypted_bytes = cipher_suite.encrypt(cell_bytes)\n",
        "    return encrypted_bytes.decode('utf-8')\n",
        "\n",
        "# Load the CSV file\n",
        "data = pd.read_csv(input_file)\n",
        "\n",
        "# Encrypt the entire DataFrame\n",
        "encrypted_data = data.applymap(encrypt_cell)\n",
        "\n",
        "# Save the encrypted DataFrame to a new CSV file\n",
        "encrypted_data.to_csv(output_file, index=False)\n",
        "\n",
        "# Compute hash of the encrypted data\n",
        "with open(output_file, 'rb') as f:\n",
        "    file_content = f.read()\n",
        "encrypted_data_hash = hashlib.sha256(file_content).digest()\n",
        "\n",
        "# Convert the hash to bytes32 for solidity compatibility\n",
        "data_hash_bytes32 = bytes.fromhex(encrypted_data_hash.hex())\n",
        "\n",
        "# Get gas price\n",
        "gas_price = web3.eth.gas_price\n",
        "\n",
        "# Build the transaction object\n",
        "transaction = contract.functions.storeHash(data_hash_bytes32).build_transaction({\n",
        "    'gas': 2000000,\n",
        "    'gasPrice': gas_price,\n",
        "    'nonce': web3.eth.get_transaction_count(account.address),\n",
        "    'chainId': 11155111,  # Replace with the correct chain ID for your Ethereum network\n",
        "})\n",
        "\n",
        "# Sign the transaction\n",
        "signed_txn = web3.eth.account.sign_transaction(transaction, private_key=private_key)\n",
        "\n",
        "# Send the transaction\n",
        "tx_hash = web3.eth.send_raw_transaction(signed_txn.rawTransaction)\n",
        "\n",
        "# Wait for the transaction receipt\n",
        "receipt = web3.eth.wait_for_transaction_receipt(tx_hash)\n",
        "\n",
        "print(f\"Encrypted data hash stored on blockchain: {encrypted_data_hash.hex()}\")\n",
        "\n"
      ],
      "metadata": {
        "id": "qXCUFspDT7bN"
      },
      "execution_count": null,
      "outputs": []
    },
    {
      "cell_type": "code",
      "source": [
        "pip install tabulate\n"
      ],
      "metadata": {
        "colab": {
          "base_uri": "https://localhost:8080/"
        },
        "id": "E6b3P2v6ZH5x",
        "outputId": "044bc725-4d69-4e62-8c47-dc584a1ab35b"
      },
      "execution_count": null,
      "outputs": [
        {
          "output_type": "stream",
          "name": "stdout",
          "text": [
            "Requirement already satisfied: tabulate in /usr/local/lib/python3.10/dist-packages (0.9.0)\n"
          ]
        }
      ]
    },
    {
      "cell_type": "code",
      "source": [
        "from tabulate import tabulate\n",
        "\n",
        "# Assuming receipt is the transaction receipt object returned by web3.eth.get_transaction_receipt(tx_hash)\n",
        "if receipt is None:\n",
        "    print(\"Transaction receipt not found. Please check if the transaction was successful.\")\n",
        "else:\n",
        "    # Convert receipt dictionary to a list of tuples for tabulate\n",
        "    receipt_data = [\n",
        "        (\"Transaction Hash\", receipt['transactionHash'].hex()),\n",
        "        (\"Block Number\", receipt['blockNumber']),\n",
        "        (\"Gas Used\", receipt['gasUsed']),\n",
        "        (\"Status\", \"Success\" if receipt['status'] == 1 else \"Failed\"),\n",
        "        (\"From\", receipt['from']),\n",
        "        (\"To\", receipt['to']),\n",
        "    ]\n",
        "\n",
        "    # Print receipt using tabulate\n",
        "    print(tabulate(receipt_data, headers=[\"Field\", \"Value\"], tablefmt=\"pretty\"))\n",
        "\n"
      ],
      "metadata": {
        "colab": {
          "base_uri": "https://localhost:8080/"
        },
        "id": "bl-S5oErZul1",
        "outputId": "04ee78be-9009-497c-9c32-8896bcffb31f"
      },
      "execution_count": null,
      "outputs": [
        {
          "output_type": "stream",
          "name": "stdout",
          "text": [
            "+------------------+--------------------------------------------------------------------+\n",
            "|      Field       |                               Value                                |\n",
            "+------------------+--------------------------------------------------------------------+\n",
            "| Transaction Hash | 0xb1e3ff3880be6a6c94560328b120f2e86b306f1017c6a86d5485641bd8a5ea64 |\n",
            "|   Block Number   |                              6184954                               |\n",
            "|     Gas Used     |                               21576                                |\n",
            "|      Status      |                              Success                               |\n",
            "|       From       |             0xaD43530063B452111eCE74c1541B9dCb4D9450f3             |\n",
            "|        To        |             0x5B38Da6a701c568545dCfcB03FcB875f56beddC4             |\n",
            "+------------------+--------------------------------------------------------------------+\n"
          ]
        }
      ]
    }
  ]
}
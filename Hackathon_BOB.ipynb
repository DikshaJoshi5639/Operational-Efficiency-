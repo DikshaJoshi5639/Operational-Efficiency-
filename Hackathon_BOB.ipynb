{
  "nbformat": 4,
  "nbformat_minor": 0,
  "metadata": {
    "colab": {
      "provenance": [],
      "include_colab_link": true
    },
    "kernelspec": {
      "name": "python3",
      "display_name": "Python 3"
    },
    "language_info": {
      "name": "python"
    }
  },
  "cells": [
    {
      "cell_type": "markdown",
      "metadata": {
        "id": "view-in-github",
        "colab_type": "text"
      },
      "source": [
        "<a href=\"https://colab.research.google.com/github/DikshaJoshi5639/Operational-Efficiency-/blob/main/Hackathon_BOB.ipynb\" target=\"_parent\"><img src=\"https://colab.research.google.com/assets/colab-badge.svg\" alt=\"Open In Colab\"/></a>"
      ]
    },
    {
      "cell_type": "markdown",
      "source": [
        "**Data Preprocessing**"
      ],
      "metadata": {
        "id": "6PjhvvKn1Z0v"
      }
    },
    {
      "cell_type": "code",
      "execution_count": null,
      "metadata": {
        "colab": {
          "base_uri": "https://localhost:8080/"
        },
        "id": "WP1yM1oI1UA0",
        "outputId": "a52dc7a8-6ff7-43f3-de03-1e78a6f1c157"
      },
      "outputs": [
        {
          "output_type": "stream",
          "name": "stderr",
          "text": [
            "[nltk_data] Downloading package punkt to /root/nltk_data...\n",
            "[nltk_data]   Package punkt is already up-to-date!\n",
            "[nltk_data] Downloading package stopwords to /root/nltk_data...\n",
            "[nltk_data]   Package stopwords is already up-to-date!\n",
            "[nltk_data] Downloading package wordnet to /root/nltk_data...\n",
            "[nltk_data]   Package wordnet is already up-to-date!\n"
          ]
        }
      ],
      "source": [
        "import pandas as pd\n",
        "import numpy as np\n",
        "import nltk\n",
        "from sklearn.preprocessing import OneHotEncoder\n",
        "from sklearn.model_selection import train_test_split\n",
        "from nltk.corpus import stopwords\n",
        "from nltk.tokenize import word_tokenize\n",
        "from nltk.stem import WordNetLemmatizer\n",
        "\n",
        "# Load data\n",
        "df = pd.read_csv('/content/BankCustomerData.csv')\n",
        "\n",
        "# Download necessary NLTK data\n",
        "nltk.download('punkt')\n",
        "nltk.download('stopwords')\n",
        "nltk.download('wordnet')\n",
        "\n",
        "# Text preprocessing\n",
        "stop_words = set(stopwords.words('english'))\n",
        "lemmatizer = WordNetLemmatizer()\n",
        "\n",
        "def preprocess_text(text):\n",
        "    if pd.isna(text):\n",
        "        return \"\"\n",
        "    tokens = word_tokenize(text.lower())\n",
        "    tokens = [lemmatizer.lemmatize(word) for word in tokens if word.isalpha() and word not in stop_words]\n",
        "    return ' '.join(tokens)\n",
        "\n",
        "# Fill NaN values with an empty string\n",
        "df['job'] = df['job'].fillna('')\n",
        "df['education'] = df['education'].fillna('')\n",
        "df['contact'] = df['contact'].fillna('')\n",
        "df['poutcome'] = df['poutcome'].fillna('')\n",
        "\n",
        "# Apply text preprocessing\n",
        "df['job'] = df['job'].apply(preprocess_text)\n",
        "df['education'] = df['education'].apply(preprocess_text)\n",
        "df['contact'] = df['contact'].apply(preprocess_text)\n",
        "df['poutcome'] = df['poutcome'].apply(preprocess_text)\n",
        "\n",
        "# Encode categorical variables\n",
        "categorical_columns = ['marital', 'default', 'housing', 'loan', 'month']\n",
        "df_encoded = pd.get_dummies(df, columns=categorical_columns, drop_first=True)\n",
        "\n"
      ]
    },
    {
      "cell_type": "markdown",
      "source": [
        "**Feature Engineering**"
      ],
      "metadata": {
        "id": "omqDqjG32J9R"
      }
    },
    {
      "cell_type": "code",
      "source": [
        "from sklearn.feature_extraction.text import TfidfVectorizer\n",
        "\n",
        "# Function to vectorize text columns\n",
        "def vectorize_column(column_data):\n",
        "    vectorizer = TfidfVectorizer()\n",
        "    tfidf_matrix = vectorizer.fit_transform(column_data)\n",
        "    tfidf_df = pd.DataFrame(tfidf_matrix.toarray(), columns=vectorizer.get_feature_names_out())\n",
        "    return tfidf_df\n",
        "\n",
        "# Vectorize each text column\n",
        "job_tfidf_df = vectorize_column(df['job'])\n",
        "education_tfidf_df = vectorize_column(df['education'])\n",
        "contact_tfidf_df = vectorize_column(df['contact'])\n",
        "poutcome_tfidf_df = vectorize_column(df['poutcome'])\n",
        "\n",
        "# Combine numerical features with vectorized text features\n",
        "df_final = pd.concat([df_encoded.reset_index(drop=True), job_tfidf_df, education_tfidf_df, contact_tfidf_df, poutcome_tfidf_df], axis=1)\n"
      ],
      "metadata": {
        "id": "nsgfWPi_2LTf"
      },
      "execution_count": null,
      "outputs": []
    },
    {
      "cell_type": "markdown",
      "source": [
        "**Model Selection and Training**\n",
        "\n",
        "> Address Class Imbalance and Model Training\n",
        "\n",
        "\n"
      ],
      "metadata": {
        "id": "8okF8C9e2RKL"
      }
    },
    {
      "cell_type": "code",
      "source": [
        "import matplotlib.pyplot as plt\n",
        "import pandas as pd\n",
        "from sklearn.model_selection import train_test_split\n",
        "from sklearn.preprocessing import OneHotEncoder\n",
        "from imblearn.over_sampling import SMOTE\n",
        "from sklearn.linear_model import LogisticRegression\n",
        "from sklearn.svm import SVC\n",
        "from sklearn.ensemble import RandomForestClassifier\n",
        "from sklearn.metrics import accuracy_score, f1_score\n",
        "from sklearn.impute import SimpleImputer  # Import imputer from sklearn\n",
        "\n",
        "# Assuming df_encoded is your encoded DataFrame from earlier steps\n",
        "# Drop unnecessary columns if any\n",
        "X = df_encoded.drop(columns=['term_deposit'])\n",
        "y = df_encoded['term_deposit'].apply(lambda x: 1 if x == 'yes' else 0)\n",
        "\n",
        "# Step to handle missing values: Impute NaNs with mean of each column\n",
        "imputer = SimpleImputer(strategy='mean')\n",
        "X_imputed = imputer.fit_transform(X)\n",
        "\n",
        "# Step 2: Apply SMOTE to balance classes\n",
        "smote = SMOTE(random_state=42)\n",
        "X_resampled, y_resampled = smote.fit_resample(X_imputed, y)\n",
        "\n",
        "# Step 3: Split data into training and validation sets\n",
        "X_train, X_val, y_train, y_val = train_test_split(X_resampled, y_resampled, test_size=0.2, random_state=42)\n",
        "\n",
        "# Step 4: Initialize models\n",
        "logreg_model = LogisticRegression()\n",
        "svm_model = SVC()\n",
        "rf_model = RandomForestClassifier()\n",
        "\n",
        "# Step 5: Train models\n",
        "logreg_model.fit(X_train, y_train)\n",
        "svm_model.fit(X_train, y_train)\n",
        "rf_model.fit(X_train, y_train)\n",
        "\n",
        "# Step 6: Predict on validation set\n",
        "logreg_pred = logreg_model.predict(X_val)\n",
        "svm_pred = svm_model.predict(X_val)\n",
        "rf_pred = rf_model.predict(X_val)\n",
        "\n",
        "# Step 7: Evaluate performance\n",
        "logreg_acc = accuracy_score(y_val, logreg_pred)\n",
        "logreg_f1 = f1_score(y_val, logreg_pred)\n",
        "\n",
        "svm_acc = accuracy_score(y_val, svm_pred)\n",
        "svm_f1 = f1_score(y_val, svm_pred)\n",
        "\n",
        "rf_acc = accuracy_score(y_val, rf_pred)\n",
        "rf_f1 = f1_score(y_val, rf_pred)\n",
        "\n",
        "# Step 8: Display performance metrics\n",
        "print(\"Logistic Regression:\")\n",
        "print(\"Accuracy:\", logreg_acc)\n",
        "print(\"F1 Score:\", logreg_f1)\n",
        "\n",
        "print(\"\\nSupport Vector Machine:\")\n",
        "print(\"Accuracy:\", svm_acc)\n",
        "print(\"F1 Score:\", svm_f1)\n",
        "\n",
        "print(\"\\nRandom Forest:\")\n",
        "print(\"Accuracy:\", rf_acc)\n",
        "print(\"F1 Score:\", rf_f1)\n",
        "\n",
        "# Step 9: Plotting accuracies\n",
        "models = ['Logistic Regression', 'SVM', 'Random Forest']\n",
        "accuracies = [logreg_acc, svm_acc, rf_acc]\n",
        "\n",
        "plt.figure(figsize=(10, 6))\n",
        "plt.bar(models, accuracies, color=['blue', 'green', 'orange'])\n",
        "plt.xlabel('Models')\n",
        "plt.ylabel('Accuracy')\n",
        "plt.title('Accuracy of Classification Models')\n",
        "plt.ylim(0.80, 0.999)  # Adjust y-axis limits for better visualization\n",
        "\n",
        "# Marking points on the bar plot\n",
        "for i, acc in enumerate(accuracies):\n",
        "    plt.text(i, acc + 0.002, f'{acc:.3f}', ha='center', va='bottom', fontsize=10)\n",
        "\n",
        "plt.show()\n"
      ],
      "metadata": {
        "colab": {
          "base_uri": "https://localhost:8080/",
          "height": 894
        },
        "id": "0KLCJtpMTQU4",
        "outputId": "63adb6c4-c20d-476c-b9c4-2591fafd7d61"
      },
      "execution_count": null,
      "outputs": [
        {
          "output_type": "stream",
          "name": "stderr",
          "text": [
            "/usr/local/lib/python3.10/dist-packages/sklearn/linear_model/_logistic.py:458: ConvergenceWarning: lbfgs failed to converge (status=1):\n",
            "STOP: TOTAL NO. of ITERATIONS REACHED LIMIT.\n",
            "\n",
            "Increase the number of iterations (max_iter) or scale the data as shown in:\n",
            "    https://scikit-learn.org/stable/modules/preprocessing.html\n",
            "Please also refer to the documentation for alternative solver options:\n",
            "    https://scikit-learn.org/stable/modules/linear_model.html#logistic-regression\n",
            "  n_iter_i = _check_optimize_result(\n"
          ]
        },
        {
          "output_type": "stream",
          "name": "stdout",
          "text": [
            "Logistic Regression:\n",
            "Accuracy: 0.8854534135712804\n",
            "F1 Score: 0.8853344412131283\n",
            "\n",
            "Support Vector Machine:\n",
            "Accuracy: 0.8920937953932351\n",
            "F1 Score: 0.8940073379535262\n",
            "\n",
            "Random Forest:\n",
            "Accuracy: 0.9774849553849346\n",
            "F1 Score: 0.9775617826491573\n"
          ]
        },
        {
          "output_type": "display_data",
          "data": {
            "text/plain": [
              "<Figure size 1000x600 with 1 Axes>"
            ],
            "image/png": "[encoded data removed]"
          },
          "metadata": {}
        }
      ]
    },
    {
      "cell_type": "markdown",
      "source": [
        "**`Text Generation: Transformer-based Model (GPT-2)**"
      ],
      "metadata": {
        "id": "JGQ_0ax0_tVO"
      }
    },
    {
      "cell_type": "code",
      "source": [
        "import pandas as pd\n",
        "from sklearn.ensemble import RandomForestClassifier\n",
        "from sklearn.preprocessing import OneHotEncoder\n",
        "from sklearn.impute import SimpleImputer\n",
        "from transformers import GPT2LMHeadModel, GPT2Tokenizer\n",
        "\n",
        "# Assuming X_final is your final processed dataset excluding the target variable 'term_deposit'\n",
        "X = df_final.drop(columns=['term_deposit'])\n",
        "y = df_final['term_deposit']\n",
        "\n",
        "# Check for NaN values in the identified columns\n",
        "nan_columns = X[['balance', 'day', 'duration', 'campaign', 'pdays', 'previous']].columns[X[['balance', 'day', 'duration', 'campaign', 'pdays', 'previous']].isnull().any()]\n",
        "if not nan_columns.empty:\n",
        "    print(f\"Columns with NaN values: {nan_columns}\")\n",
        "\n",
        "    # Drop rows with NaN values if feasible\n",
        "    X.dropna(subset=nan_columns, inplace=True)\n",
        "    y = y[X.index]  # Update y accordingly\n",
        "\n",
        "# Update cat_columns to match the available columns in X\n",
        "cat_columns = ['job', 'marital', 'education', 'default', 'housing', 'loan', 'contact', 'month', 'poutcome']\n",
        "cat_columns = [col for col in cat_columns if col in X.columns]\n",
        "\n",
        "# Encode categorical variables\n",
        "encoder = OneHotEncoder(handle_unknown='ignore')\n",
        "X_encoded = encoder.fit_transform(X[cat_columns]).toarray()\n",
        "\n",
        "# Get feature names manually from encoder\n",
        "encoded_feature_names = []\n",
        "for i, col in enumerate(cat_columns):\n",
        "    for category in encoder.categories_[i]:\n",
        "        encoded_feature_names.append(f\"{col}_{category}\")\n",
        "\n",
        "# Convert to DataFrame\n",
        "X_encoded_df = pd.DataFrame(X_encoded, columns=encoded_feature_names)\n",
        "\n",
        "# Concatenate numerical features with encoded categorical features\n",
        "X_numeric = X.drop(columns=cat_columns)\n",
        "X_final = pd.concat([X_numeric, X_encoded_df], axis=1)\n",
        "\n",
        "# Handle missing values with SimpleImputer\n",
        "imputer_final = SimpleImputer(strategy='mean')  # Use 'median' or 'most_frequent' based on your data\n",
        "X_final_imputed = imputer_final.fit_transform(X_final)\n",
        "\n",
        "# Convert back to DataFrame (if needed)\n",
        "X_final_imputed_df = pd.DataFrame(X_final_imputed, columns=X_final.columns)\n",
        "\n",
        "# Check for NaN values after imputation (optional but recommended)\n",
        "if X_final_imputed_df.isnull().sum().sum() > 0:\n",
        "    raise ValueError(\"NaN values must be handled before model training\")\n",
        "\n",
        "# Initialize and train your Random Forest model with imputed data\n",
        "rf_model = RandomForestClassifier()\n",
        "rf_model.fit(X_final_imputed_df, y)\n",
        "\n",
        "# Load pre-trained GPT-2 model and tokenizer (assuming you have already loaded them)\n",
        "model_name = 'gpt2'\n",
        "tokenizer = GPT2Tokenizer.from_pretrained(model_name)\n",
        "tokenizer.add_special_tokens({'pad_token': '[PAD]'})  # Add padding token\n",
        "model = GPT2LMHeadModel.from_pretrained(model_name)\n",
        "\n",
        "# Function for generating response with attention masking\n",
        "def generate_response(prompt, max_length=50):\n",
        "    inputs = tokenizer(prompt, return_tensors='pt', max_length=max_length, truncation=True, padding=True)\n",
        "    input_ids = inputs.input_ids.to(model.device)\n",
        "    attention_mask = inputs.attention_mask.to(model.device)\n",
        "\n",
        "    outputs = model.generate(input_ids, attention_mask=attention_mask, max_length=max_length, num_return_sequences=1)\n",
        "    response = tokenizer.decode(outputs[0], skip_special_tokens=True)\n",
        "    return response\n"
      ],
      "metadata": {
        "colab": {
          "base_uri": "https://localhost:8080/"
        },
        "id": "LOCKTT0E_vEV",
        "outputId": "0384d6f3-0fa3-4d2a-8667-ed106bdc3861"
      },
      "execution_count": null,
      "outputs": [
        {
          "output_type": "stream",
          "name": "stdout",
          "text": [
            "Columns with NaN values: Index(['balance', 'day', 'duration', 'campaign', 'pdays', 'previous'], dtype='object')\n"
          ]
        }
      ]
    },
    {
      "cell_type": "markdown",
      "source": [
        "**AI NLP Model Integration**\n",
        "\n",
        "> Load and Prepare Data\n",
        "\n",
        "\n",
        "\n"
      ],
      "metadata": {
        "id": "3aVWGrxPF1Hx"
      }
    },
    {
      "cell_type": "code",
      "source": [
        "import pandas as pd\n",
        "from sklearn.ensemble import RandomForestClassifier\n",
        "from sklearn.preprocessing import OneHotEncoder\n",
        "from transformers import GPT2LMHeadModel, GPT2Tokenizer\n",
        "\n",
        "# Assuming X_final is your final processed dataset excluding the target variable 'term_deposit'\n",
        "X = df_final.drop(columns=['term_deposit'])\n",
        "y = df_final['term_deposit']\n",
        "\n",
        "# Verify the columns available in X\n",
        "print(\"Columns available in X:\", X.columns)\n",
        "\n",
        "# Update cat_columns to match the available columns in X\n",
        "cat_columns = ['job', 'marital', 'education', 'default', 'housing', 'loan', 'contact', 'month', 'poutcome']\n",
        "\n",
        "# Filter cat_columns to ensure all columns are present in X\n",
        "cat_columns = [col for col in cat_columns if col in X.columns]\n",
        "\n",
        "# Encode categorical variables\n",
        "encoder = OneHotEncoder(handle_unknown='ignore')\n",
        "X_encoded = encoder.fit_transform(X[cat_columns]).toarray()\n",
        "\n",
        "# Get feature names manually from encoder\n",
        "encoded_feature_names = []\n",
        "for i, col in enumerate(cat_columns):\n",
        "    for category in encoder.categories_[i]:\n",
        "        encoded_feature_names.append(f\"{col}_{category}\")\n",
        "\n",
        "# Convert to DataFrame\n",
        "X_encoded_df = pd.DataFrame(X_encoded, columns=encoded_feature_names)\n",
        "\n",
        "# Concatenate numerical features with encoded categorical features\n",
        "X_numeric = X.drop(columns=cat_columns)\n",
        "X_final = pd.concat([X_numeric, X_encoded_df], axis=1)\n"
      ],
      "metadata": {
        "colab": {
          "base_uri": "https://localhost:8080/"
        },
        "id": "SzsUfAkEF2Kl",
        "outputId": "ad923978-2b20-44bf-8cae-9b44e0444724"
      },
      "execution_count": null,
      "outputs": [
        {
          "output_type": "stream",
          "name": "stdout",
          "text": [
            "Columns available in X: Index(['age', 'job', 'education', 'balance', 'contact', 'day', 'duration',\n",
            "       'campaign', 'pdays', 'previous', 'poutcome', 'marital_married',\n",
            "       'marital_single', 'default_yes', 'housing_yes', 'loan_yes', 'month_jul',\n",
            "       'month_jun', 'month_may', 'month_nov', 'month_oct', 'admin',\n",
            "       'entrepreneur', 'housemaid', 'management', 'retired', 'service',\n",
            "       'student', 'technician', 'unemployed', 'unknown', 'primary',\n",
            "       'secondary', 'ter', 'tertiary', 'unknown', 'cellular', 'telephone',\n",
            "       'unknown', 'failure', 'success', 'unknown'],\n",
            "      dtype='object')\n"
          ]
        }
      ]
    },
    {
      "cell_type": "markdown",
      "source": [
        "\n",
        "\n",
        "> Initialize and Train Random Forest Classifier\n",
        "\n"
      ],
      "metadata": {
        "id": "Xrv7v4sPGEIw"
      }
    },
    {
      "cell_type": "code",
      "source": [
        "# Initialize and train your Random Forest model\n",
        "rf_model = RandomForestClassifier()\n",
        "rf_model.fit(X_final, y)\n"
      ],
      "metadata": {
        "colab": {
          "base_uri": "https://localhost:8080/",
          "height": 75
        },
        "id": "XGt599veGGYi",
        "outputId": "36cb01ca-00f4-44ec-ddfd-b6c759d4b950"
      },
      "execution_count": null,
      "outputs": [
        {
          "output_type": "execute_result",
          "data": {
            "text/plain": [
              "RandomForestClassifier()"
            ],
            "text/html": [
              "<style>#sk-container-id-2 {color: black;background-color: white;}#sk-container-id-2 pre{padding: 0;}#sk-container-id-2 div.sk-toggleable {background-color: white;}#sk-container-id-2 label.sk-toggleable__label {cursor: pointer;display: block;width: 100%;margin-bottom: 0;padding: 0.3em;box-sizing: border-box;text-align: center;}#sk-container-id-2 label.sk-toggleable__label-arrow:before {content: \"▸\";float: left;margin-right: 0.25em;color: #696969;}#sk-container-id-2 label.sk-toggleable__label-arrow:hover:before {color: black;}#sk-container-id-2 div.sk-estimator:hover label.sk-toggleable__label-arrow:before {color: black;}#sk-container-id-2 div.sk-toggleable__content {max-height: 0;max-width: 0;overflow: hidden;text-align: left;background-color: #f0f8ff;}#sk-container-id-2 div.sk-toggleable__content pre {margin: 0.2em;color: black;border-radius: 0.25em;background-color: #f0f8ff;}#sk-container-id-2 input.sk-toggleable__control:checked~div.sk-toggleable__content {max-height: 200px;max-width: 100%;overflow: auto;}#sk-container-id-2 input.sk-toggleable__control:checked~label.sk-toggleable__label-arrow:before {content: \"▾\";}#sk-container-id-2 div.sk-estimator input.sk-toggleable__control:checked~label.sk-toggleable__label {background-color: #d4ebff;}#sk-container-id-2 div.sk-label input.sk-toggleable__control:checked~label.sk-toggleable__label {background-color: #d4ebff;}#sk-container-id-2 input.sk-hidden--visually {border: 0;clip: rect(1px 1px 1px 1px);clip: rect(1px, 1px, 1px, 1px);height: 1px;margin: -1px;overflow: hidden;padding: 0;position: absolute;width: 1px;}#sk-container-id-2 div.sk-estimator {font-family: monospace;background-color: #f0f8ff;border: 1px dotted black;border-radius: 0.25em;box-sizing: border-box;margin-bottom: 0.5em;}#sk-container-id-2 div.sk-estimator:hover {background-color: #d4ebff;}#sk-container-id-2 div.sk-parallel-item::after {content: \"\";width: 100%;border-bottom: 1px solid gray;flex-grow: 1;}#sk-container-id-2 div.sk-label:hover label.sk-toggleable__label {background-color: #d4ebff;}#sk-container-id-2 div.sk-serial::before {content: \"\";position: absolute;border-left: 1px solid gray;box-sizing: border-box;top: 0;bottom: 0;left: 50%;z-index: 0;}#sk-container-id-2 div.sk-serial {display: flex;flex-direction: column;align-items: center;background-color: white;padding-right: 0.2em;padding-left: 0.2em;position: relative;}#sk-container-id-2 div.sk-item {position: relative;z-index: 1;}#sk-container-id-2 div.sk-parallel {display: flex;align-items: stretch;justify-content: center;background-color: white;position: relative;}#sk-container-id-2 div.sk-item::before, #sk-container-id-2 div.sk-parallel-item::before {content: \"\";position: absolute;border-left: 1px solid gray;box-sizing: border-box;top: 0;bottom: 0;left: 50%;z-index: -1;}#sk-container-id-2 div.sk-parallel-item {display: flex;flex-direction: column;z-index: 1;position: relative;background-color: white;}#sk-container-id-2 div.sk-parallel-item:first-child::after {align-self: flex-end;width: 50%;}#sk-container-id-2 div.sk-parallel-item:last-child::after {align-self: flex-start;width: 50%;}#sk-container-id-2 div.sk-parallel-item:only-child::after {width: 0;}#sk-container-id-2 div.sk-dashed-wrapped {border: 1px dashed gray;margin: 0 0.4em 0.5em 0.4em;box-sizing: border-box;padding-bottom: 0.4em;background-color: white;}#sk-container-id-2 div.sk-label label {font-family: monospace;font-weight: bold;display: inline-block;line-height: 1.2em;}#sk-container-id-2 div.sk-label-container {text-align: center;}#sk-container-id-2 div.sk-container {/* jupyter's `normalize.less` sets `[hidden] { display: none; }` but bootstrap.min.css set `[hidden] { display: none !important; }` so we also need the `!important` here to be able to override the default hidden behavior on the sphinx rendered scikit-learn.org. See: https://github.com/scikit-learn/scikit-learn/issues/21755 */display: inline-block !important;position: relative;}#sk-container-id-2 div.sk-text-repr-fallback {display: none;}</style><div id=\"sk-container-id-2\" class=\"sk-top-container\"><div class=\"sk-text-repr-fallback\"><pre>RandomForestClassifier()</pre><b>In a Jupyter environment, please rerun this cell to show the HTML representation or trust the notebook. <br />On GitHub, the HTML representation is unable to render, please try loading this page with nbviewer.org.</b></div><div class=\"sk-container\" hidden><div class=\"sk-item\"><div class=\"sk-estimator sk-toggleable\"><input class=\"sk-toggleable__control sk-hidden--visually\" id=\"sk-estimator-id-2\" type=\"checkbox\" checked><label for=\"sk-estimator-id-2\" class=\"sk-toggleable__label sk-toggleable__label-arrow\">RandomForestClassifier</label><div class=\"sk-toggleable__content\"><pre>RandomForestClassifier()</pre></div></div></div></div></div>"
            ]
          },
          "metadata": {},
          "execution_count": 75
        }
      ]
    },
    {
      "cell_type": "markdown",
      "source": [
        "\n",
        "\n",
        "> Load and Prepare GPT-2 Model for Text Generation\n",
        "\n"
      ],
      "metadata": {
        "id": "zKMv70v1GZ99"
      }
    },
    {
      "cell_type": "code",
      "source": [
        "# Load pre-trained GPT-2 model and tokenizer\n",
        "model_name = 'gpt2'\n",
        "tokenizer = GPT2Tokenizer.from_pretrained(model_name)\n",
        "tokenizer.add_special_tokens({'pad_token': '[PAD]'})  # Add padding token\n",
        "model = GPT2LMHeadModel.from_pretrained(model_name)\n",
        "\n",
        "# Function for generating response with attention masking\n",
        "def generate_response(prompt, max_length=50):\n",
        "    inputs = tokenizer(prompt, return_tensors='pt', max_length=max_length, truncation=True, padding=True)\n",
        "    input_ids = inputs.input_ids.to(model.device)\n",
        "    attention_mask = inputs.attention_mask.to(model.device)\n",
        "\n",
        "    outputs = model.generate(input_ids, attention_mask=attention_mask, max_length=max_length, num_return_sequences=1)\n",
        "    response = tokenizer.decode(outputs[0], skip_special_tokens=True)\n",
        "    return response\n"
      ],
      "metadata": {
        "id": "enCveCPgGcWW"
      },
      "execution_count": null,
      "outputs": []
    },
    {
      "cell_type": "markdown",
      "source": [
        "\n",
        "\n",
        "> Visualization\n",
        "\n"
      ],
      "metadata": {
        "id": "jcHAXPcqHyxK"
      }
    },
    {
      "cell_type": "code",
      "source": [
        "from sklearn.model_selection import cross_val_score, StratifiedKFold\n",
        "\n",
        "# Example with Stratified K-Fold cross-validation\n",
        "skf = StratifiedKFold(n_splits=5, shuffle=True, random_state=42)\n",
        "scores = cross_val_score(rf_model, X_final, y, cv=skf, scoring='accuracy')\n",
        "print(f\"Cross-Validation Accuracy: {scores.mean():.4f} (±{scores.std():.4f})\")\n"
      ],
      "metadata": {
        "colab": {
          "base_uri": "https://localhost:8080/"
        },
        "id": "scUR4nSrHyVu",
        "outputId": "7b018417-0cfe-473c-d8da-94dbf85ba258"
      },
      "execution_count": null,
      "outputs": [
        {
          "output_type": "stream",
          "name": "stdout",
          "text": [
            "Cross-Validation Accuracy: 0.9550 (±0.0025)\n"
          ]
        }
      ]
    },
    {
      "cell_type": "markdown",
      "source": [
        "\n",
        "\n",
        "> The AI Model (NLP) achieved an average cross-validation accuracy of 0.9169 with a very low standard deviation (±0.0019). This suggests that the model generalizes well to unseen data, indicating robust performance in predicting outcomes related to term deposits.\n",
        "\n"
      ],
      "metadata": {
        "id": "gyz1S3rCJJKB"
      }
    },
    {
      "cell_type": "code",
      "source": [
        "from sklearn.metrics import classification_report\n",
        "\n",
        "# Example with classification report\n",
        "y_pred = rf_model.predict(X_final)\n",
        "print(classification_report(y, y_pred))\n"
      ],
      "metadata": {
        "colab": {
          "base_uri": "https://localhost:8080/"
        },
        "id": "jAMchD8SIPm0",
        "outputId": "bdd1718b-428c-4a26-9c78-66d0f4dc0724"
      },
      "execution_count": null,
      "outputs": [
        {
          "output_type": "stream",
          "name": "stdout",
          "text": [
            "              precision    recall  f1-score   support\n",
            "\n",
            "          no       1.00      1.00      1.00     24093\n",
            "         yes       1.00      1.00      1.00      1246\n",
            "\n",
            "    accuracy                           1.00     25339\n",
            "   macro avg       1.00      1.00      1.00     25339\n",
            "weighted avg       1.00      1.00      1.00     25339\n",
            "\n"
          ]
        }
      ]
    },
    {
      "cell_type": "markdown",
      "source": [
        "\n",
        "\n",
        "> Precision and Recall: Both classes ('no' and 'yes' for term deposits) achieved perfect precision, recall, and F1-score of 1.00. This indicates that the model accurately identifies both positive and negative instances without any misclassifications in your dataset.\n",
        "\n"
      ],
      "metadata": {
        "id": "T-jUXJ_nJZAP"
      }
    },
    {
      "cell_type": "code",
      "source": [
        "# Example with feature importance\n",
        "feature_importance = pd.Series(rf_model.feature_importances_, index=X_final.columns)\n",
        "feature_importance.nlargest(10).plot(kind='barh')\n",
        "plt.title('Top 10 Important Features')\n",
        "plt.xlabel('Feature Importance Score')\n",
        "plt.show()\n"
      ],
      "metadata": {
        "colab": {
          "base_uri": "https://localhost:8080/",
          "height": 472
        },
        "id": "WBSQCvaAItSC",
        "outputId": "44651df7-a0f8-484f-fb92-470bc1c36779"
      },
      "execution_count": null,
      "outputs": [
        {
          "output_type": "display_data",
          "data": {
            "text/plain": [
              "<Figure size 640x480 with 1 Axes>"
            ],
            "image/png": "[encoded data removed]"
          },
          "metadata": {}
        }
      ]
    },
    {
      "cell_type": "code",
      "source": [
        "# Define the path where you want to save the CSV file\n",
        "csv_file_path = '/content/updated_dataset.csv'\n",
        "\n",
        "# Export DataFrame to CSV\n",
        "df_final.to_csv(csv_file_path, index=False)\n",
        "\n",
        "print(f\"Updated CSV file saved successfully at: {csv_file_path}\")\n"
      ],
      "metadata": {
        "colab": {
          "base_uri": "https://localhost:8080/"
        },
        "id": "pLPBkw7MSFcQ",
        "outputId": "425b29bb-8ae2-45ba-d70e-912a3291c01e"
      },
      "execution_count": null,
      "outputs": [
        {
          "output_type": "stream",
          "name": "stdout",
          "text": [
            "Updated CSV file saved successfully at: /content/updated_dataset.csv\n"
          ]
        }
      ]
    },
    {
      "cell_type": "code",
      "source": [
        "from graphviz import Digraph\n",
        "\n",
        "# Create a Digraph object\n",
        "dot = Digraph(comment='Banking Processes')\n",
        "\n",
        "# Define the nodes and edges for the traditional process\n",
        "dot.node('A', 'Customer Request')\n",
        "dot.node('B', 'Manual Data Entry')\n",
        "dot.node('C', 'Paper Documentation')\n",
        "dot.node('D', 'Approval Process')\n",
        "dot.node('E', 'Task Completion')\n",
        "\n",
        "dot.edges(['AB', 'BC', 'CD', 'DE'])\n",
        "\n",
        "# Define the nodes and edges for the AI-enhanced process\n",
        "dot.node('F', 'Customer Request')\n",
        "dot.node('G', 'Automated Data Processing')\n",
        "dot.node('H', 'Digital Documentation')\n",
        "dot.node('I', 'AI-based Approval')\n",
        "dot.node('J', 'Task Completion')\n",
        "\n",
        "dot.edges(['FG', 'GH', 'HI', 'IJ'])\n",
        "\n",
        "# Add a subgraph to distinguish between traditional and AI-enhanced processes\n",
        "with dot.subgraph(name='cluster_0') as c:\n",
        "    c.attr(style='filled', color='lightgrey')\n",
        "    c.node_attr.update(style='filled', color='white')\n",
        "    c.edges(['AB', 'BC', 'CD', 'DE'])\n",
        "    c.attr(label='Traditional Banking Process')\n",
        "\n",
        "with dot.subgraph(name='cluster_1') as c:\n",
        "    c.attr(style='filled', color='lightblue')\n",
        "    c.node_attr.update(style='filled', color='white')\n",
        "    c.edges(['FG', 'GH', 'HI', 'IJ'])\n",
        "    c.attr(label='AI-Enhanced Banking Process')\n",
        "\n",
        "# Save the graph as a PNG image\n",
        "dot.render('/content/banking_processes', format='png')\n",
        "\n",
        "# Display the graph\n",
        "dot.view()\n"
      ],
      "metadata": {
        "colab": {
          "base_uri": "https://localhost:8080/",
          "height": 35
        },
        "id": "lU9BlM0YM6_4",
        "outputId": "cad06a21-f38e-4ea2-830c-3cb2a3e6f7f3"
      },
      "execution_count": null,
      "outputs": [
        {
          "output_type": "execute_result",
          "data": {
            "text/plain": [
              "'/content/banking_processes.pdf'"
            ],
            "application/vnd.google.colaboratory.intrinsic+json": {
              "type": "string"
            }
          },
          "metadata": {},
          "execution_count": 1
        }
      ]
    },
    {
      "cell_type": "code",
      "source": [
        "from graphviz import Digraph\n",
        "\n",
        "# Create a Data Flow Diagram\n",
        "def create_data_flow_diagram():\n",
        "    dfd = Digraph('Data Flow Diagram', node_attr={'shape': 'box', 'style': 'rounded', 'color': 'lightblue'}, edge_attr={'color': 'black'})\n",
        "\n",
        "    # Nodes\n",
        "    dfd.node('A', 'User Input')\n",
        "    dfd.node('B', 'Data Preprocessing')\n",
        "    dfd.node('C', 'Feature Engineering')\n",
        "    dfd.node('D', 'Machine Learning Models')\n",
        "    dfd.node('E', 'AI Integration')\n",
        "    dfd.node('F', 'Chatbot Interface')\n",
        "    dfd.node('G', 'Database')\n",
        "    dfd.node('H', 'Power BI Dashboards')\n",
        "\n",
        "    # Edges\n",
        "    dfd.edges(['AB', 'BC', 'CD', 'DE', 'EF'])\n",
        "    dfd.edge('D', 'G')\n",
        "    dfd.edge('G', 'H')\n",
        "\n",
        "    # Render the graph\n",
        "    dfd.render('data_flow_diagram', format='png', cleanup=True)\n",
        "\n",
        "# Create a System Architecture Diagram\n",
        "def create_system_architecture_diagram():\n",
        "    sad = Digraph('System Architecture Diagram', node_attr={'shape': 'ellipse', 'style': 'filled', 'color': 'lightgreen'}, edge_attr={'color': 'black'})\n",
        "\n",
        "    # Nodes\n",
        "    sad.node('A', 'User Interface (Chatbot)')\n",
        "    sad.node('B', 'Web Server (Flask/Django)')\n",
        "    sad.node('C', 'AI Models (NLP, ML)')\n",
        "    sad.node('D', 'Database')\n",
        "    sad.node('E', 'Blockchain')\n",
        "    sad.node('F', 'Power BI Dashboards')\n",
        "\n",
        "    # Edges\n",
        "    sad.edges(['AB', 'BC', 'CD', 'DE'])\n",
        "    sad.edge('C', 'F')\n",
        "\n",
        "    # Render the graph\n",
        "    sad.render('system_architecture_diagram', format='png', cleanup=True)\n",
        "\n",
        "# Create the diagrams\n",
        "create_data_flow_diagram()\n",
        "create_system_architecture_diagram()\n"
      ],
      "metadata": {
        "id": "HtzLBIo-dt16"
      },
      "execution_count": null,
      "outputs": []
    },
    {
      "cell_type": "code",
      "source": [
        "import networkx as nx\n",
        "import matplotlib.pyplot as plt\n",
        "\n",
        "# Create a directed graph\n",
        "G = nx.DiGraph()\n",
        "\n",
        "# Add nodes for blockchain, encryption, and storage\n",
        "G.add_nodes_from([\"Blockchain\", \"Encryption\", \"Secure Storage\"])\n",
        "\n",
        "# Add edges to depict data flow\n",
        "G.add_edges_from([(\"Encryption\", \"Blockchain\"), (\"Blockchain\", \"Secure Storage\")])\n",
        "\n",
        "# Draw the network diagram\n",
        "pos = nx.spring_layout(G)\n",
        "nx.draw_networkx_nodes(G, pos, node_color=\"skyblue\", node_size=1500)\n",
        "nx.draw_networkx_labels(G, pos)\n",
        "nx.draw_networkx_edges(G, pos, edge_color=\"gray\", arrows=True)\n",
        "plt.title(\"Blockchain Integration Diagram\")\n",
        "plt.axis(\"off\")\n",
        "plt.show()\n"
      ],
      "metadata": {
        "id": "dFe8Mt-qouSz",
        "outputId": "e93224f8-a61f-4066-af2f-980b4af6885a",
        "colab": {
          "base_uri": "https://localhost:8080/",
          "height": 428
        }
      },
      "execution_count": null,
      "outputs": [
        {
          "output_type": "display_data",
          "data": {
            "text/plain": [
              "<Figure size 640x480 with 1 Axes>"
            ],
            "image/png": "[encoded data removed]"
          },
          "metadata": {}
        }
      ]
    },
    {
      "cell_type": "code",
      "source": [
        "from graphviz import Digraph\n",
        "\n",
        "# Initialize the flowchart\n",
        "flowchart = Digraph('Chatbot Flowchart', format='png')\n",
        "\n",
        "# Add nodes for user input, AI processing, and chatbot response\n",
        "flowchart.node('User', 'User Input')\n",
        "flowchart.node('AI', 'AI Model')\n",
        "flowchart.node('Chatbot', 'Chatbot Response')\n",
        "\n",
        "# Define edges to show data flow\n",
        "flowchart.edge('User', 'AI', label='Query')\n",
        "flowchart.edge('AI', 'Chatbot', label='Response')\n",
        "\n",
        "# Render and save the flowchart\n",
        "flowchart.render('/content/chatbot_flowchart', format='png', cleanup=True)\n"
      ],
      "metadata": {
        "id": "FOzoP_e2oyPF",
        "outputId": "8fa096ce-d188-4e18-ab39-d5ec8886bf22",
        "colab": {
          "base_uri": "https://localhost:8080/",
          "height": 35
        }
      },
      "execution_count": null,
      "outputs": [
        {
          "output_type": "execute_result",
          "data": {
            "text/plain": [
              "'/content/chatbot_flowchart.png'"
            ],
            "application/vnd.google.colaboratory.intrinsic+json": {
              "type": "string"
            }
          },
          "metadata": {},
          "execution_count": 21
        }
      ]
    }
  ]
}